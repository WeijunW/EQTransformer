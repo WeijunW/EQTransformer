{
 "cells": [
  {
   "cell_type": "markdown",
   "metadata": {},
   "source": [
    "# (I) Downloading Continuous Data\n",
    "This notebook demonstrates the use of EQTransformer for downloading continuous data from seismic networks. \n"
   ]
  },
  {
   "cell_type": "code",
   "execution_count": 1,
   "metadata": {},
   "outputs": [
    {
     "name": "stderr",
     "output_type": "stream",
     "text": [
      "2022-04-16 13:48:41.154089: I tensorflow/stream_executor/platform/default/dso_loader.cc:53] Successfully opened dynamic library libcudart.so.11.0\n"
     ]
    }
   ],
   "source": [
    "from EQTransformer.utils.downloader import makeStationList, downloadMseeds"
   ]
  },
  {
   "cell_type": "markdown",
   "metadata": {},
   "source": [
    "You can use help() to learn about input parameters of each function. For instance:"
   ]
  },
  {
   "cell_type": "code",
   "execution_count": 2,
   "metadata": {},
   "outputs": [
    {
     "name": "stdout",
     "output_type": "stream",
     "text": [
      "Help on function makeStationList in module EQTransformer.utils.downloader:\n",
      "\n",
      "makeStationList(json_path, client_list, min_lat, max_lat, min_lon, max_lon, start_time, end_time, channel_list=[], filter_network=[], filter_station=[], **kwargs)\n",
      "    Uses fdsn to find available stations in a specific geographical location and time period.  \n",
      "    \n",
      "    Parameters\n",
      "    ----------\n",
      "    json_path: str\n",
      "        Path of the json file that will be returned\n",
      "    \n",
      "    client_list: list\n",
      "        List of client names e.g. [\"IRIS\", \"SCEDC\", \"USGGS\"].\n",
      "                                \n",
      "    min_lat: float\n",
      "        Min latitude of the region.\n",
      "        \n",
      "    max_lat: float\n",
      "        Max latitude of the region.\n",
      "        \n",
      "    min_lon: float\n",
      "        Min longitude of the region.\n",
      "        \n",
      "    max_lon: float\n",
      "        Max longitude of the region.\n",
      "        \n",
      "    start_time: str\n",
      "        Start DateTime for the beginning of the period in \"YYYY-MM-DDThh:mm:ss.f\" format.\n",
      "        \n",
      "    end_time: str\n",
      "        End DateTime for the beginning of the period in \"YYYY-MM-DDThh:mm:ss.f\" format.\n",
      "        \n",
      "    channel_list: str, default=[]\n",
      "        A list containing the desired channel codes. Downloads will be limited to these channels based on priority. Defaults to [] --> all channels\n",
      "        \n",
      "    filter_network: str, default=[]\n",
      "        A list containing the network codes that need to be avoided. \n",
      "        \n",
      "    filter_station: str, default=[]\n",
      "        A list containing the station names that need to be avoided.\n",
      "    \n",
      "    kwargs: \n",
      "        special symbol for passing Client.get_stations arguments\n",
      "    \n",
      "    Returns\n",
      "    ----------\n",
      "    stations_list.json: A dictionary containing information for the available stations.\n",
      "\n"
     ]
    }
   ],
   "source": [
    "help(makeStationList)"
   ]
  },
  {
   "cell_type": "markdown",
   "metadata": {},
   "source": [
    "### 1) Finding the availabel stations "
   ]
  },
  {
   "cell_type": "markdown",
   "metadata": {},
   "source": [
    "Defining the location and time period of interest:"
   ]
  },
  {
   "cell_type": "code",
   "execution_count": 3,
   "metadata": {},
   "outputs": [],
   "source": [
    "MINLAT=35.50\n",
    "MAXLAT=35.60\n",
    "MINLON=-117.80\n",
    "MAXLON=-117.40\n",
    "STIME=\"2019-09-01 00:00:00.00\"\n",
    "ETIME=\"2019-09-03 00:00:00.00\""
   ]
  },
  {
   "cell_type": "markdown",
   "metadata": {},
   "source": [
    "You can limit your data types (e.g. broadband, short period, or strong motion) of interest:"
   ]
  },
  {
   "cell_type": "code",
   "execution_count": 4,
   "metadata": {},
   "outputs": [],
   "source": [
    "CHANLIST=[\"HH[ZNE]\", \"HH[Z21]\", \"BH[ZNE]\", \"EH[ZNE]\", \"SH[ZNE]\", \"HN[ZNE]\", \"HN[Z21]\", \"DP[ZNE]\"]"
   ]
  },
  {
   "cell_type": "markdown",
   "metadata": {},
   "source": [
    "This will download the information on the stations that are available based on your search criteria. You can filter out the networks or stations that you are not interested in, you can find the name of the appropriate client for your request from here:"
   ]
  },
  {
   "cell_type": "code",
   "execution_count": 5,
   "metadata": {},
   "outputs": [
    {
     "name": "stdout",
     "output_type": "stream",
     "text": [
      "GS--CA06\n",
      "GS--CA10\n",
      "PB--B921\n",
      "ZY--SV08\n"
     ]
    }
   ],
   "source": [
    "import os\n",
    "json_basepath = os.path.join(os.getcwd(),\"json/station_list.json\")\n",
    "\n",
    "makeStationList(json_path=json_basepath,\n",
    "                  client_list=[\"SCEDC\"],  \n",
    "                  min_lat=MINLAT,\n",
    "                  max_lat=MAXLAT,\n",
    "                  min_lon=MINLON, \n",
    "                  max_lon=MAXLON,                      \n",
    "                  start_time=STIME, \n",
    "                  end_time=ETIME,\n",
    "                  channel_list=CHANLIST,\n",
    "                  filter_network=[\"SY\"],\n",
    "                  filter_station=[])"
   ]
  },
  {
   "cell_type": "markdown",
   "metadata": {},
   "source": [
    "A jason file (\"stataions_list.json\") should have been created in your current directory. This contains information for the available stations (i.e. 4 stations in this case). Next, you can download the data for the available stations using the following function and script. This may take a few minutes."
   ]
  },
  {
   "cell_type": "markdown",
   "metadata": {},
   "source": [
    "### Alternative way:"
   ]
  },
  {
   "cell_type": "code",
   "execution_count": 6,
   "metadata": {},
   "outputs": [],
   "source": [
    "NET = \"CI\"\n",
    "STA = \"BAK,ARV\"\n",
    "LOC = \"*\"\n",
    "CHA =\"BHZ\"\n",
    "STIME=\"2020-09-01 00:00:00.00\"\n",
    "ETIME=\"2020-09-02 00:00:00.00\""
   ]
  },
  {
   "cell_type": "code",
   "execution_count": 7,
   "metadata": {},
   "outputs": [
    {
     "name": "stdout",
     "output_type": "stream",
     "text": [
      "CI--ARV\n",
      "CI--BAK\n"
     ]
    }
   ],
   "source": [
    "import os\n",
    "json_basepath = os.path.join(os.getcwd(),\"json/station_list.json\")\n",
    "makeStationList(json_path=json_basepath,\n",
    "                  client_list=[\"IRIS\"],\n",
    "                  min_lat=None, max_lat=None, min_lon=None, max_lon=None, \n",
    "                  network=NET,\n",
    "                  station=STA,\n",
    "                  location=LOC,\n",
    "                  channel=CHA,                      \n",
    "                  start_time=STIME, \n",
    "                  end_time=ETIME,\n",
    "                  filter_network=[])"
   ]
  },
  {
   "cell_type": "markdown",
   "metadata": {},
   "source": [
    "### 2) Downloading the data"
   ]
  },
  {
   "cell_type": "markdown",
   "metadata": {},
   "source": [
    "You can define multipel clients as the source:"
   ]
  },
  {
   "cell_type": "code",
   "execution_count": 10,
   "metadata": {},
   "outputs": [
    {
     "name": "stderr",
     "output_type": "stream",
     "text": [
      "[2022-04-16 13:52:28,011] - obspy.clients.fdsn.mass_downloader - INFO: Initializing FDSN client(s) for SCEDC, IRIS.\n",
      "[2022-04-16 13:52:28,011] - obspy.clients.fdsn.mass_downloader - INFO: Initializing FDSN client(s) for SCEDC, IRIS.\n",
      "[2022-04-16 13:52:28,011] - obspy.clients.fdsn.mass_downloader - INFO: Initializing FDSN client(s) for SCEDC, IRIS.\n",
      "[2022-04-16 13:52:28,016] - obspy.clients.fdsn.mass_downloader - INFO: Successfully initialized 2 client(s): SCEDC, IRIS.\n",
      "[2022-04-16 13:52:28,016] - obspy.clients.fdsn.mass_downloader - INFO: Successfully initialized 2 client(s): SCEDC, IRIS.\n",
      "[2022-04-16 13:52:28,016] - obspy.clients.fdsn.mass_downloader - INFO: Successfully initialized 2 client(s): SCEDC, IRIS.\n",
      "[2022-04-16 13:52:28,019] - obspy.clients.fdsn.mass_downloader - INFO: Total acquired or preexisting stations: 0\n",
      "[2022-04-16 13:52:28,019] - obspy.clients.fdsn.mass_downloader - INFO: Total acquired or preexisting stations: 0\n",
      "[2022-04-16 13:52:28,019] - obspy.clients.fdsn.mass_downloader - INFO: Total acquired or preexisting stations: 0\n",
      "[2022-04-16 13:52:28,019] - obspy.clients.fdsn.mass_downloader - INFO: Total acquired or preexisting stations: 0\n",
      "[2022-04-16 13:52:28,019] - obspy.clients.fdsn.mass_downloader - INFO: Total acquired or preexisting stations: 0\n",
      "[2022-04-16 13:52:28,021] - obspy.clients.fdsn.mass_downloader - INFO: Client 'SCEDC' - Requesting unreliable availability.\n",
      "[2022-04-16 13:52:28,019] - obspy.clients.fdsn.mass_downloader - INFO: Total acquired or preexisting stations: 0\n",
      "[2022-04-16 13:52:28,021] - obspy.clients.fdsn.mass_downloader - INFO: Client 'SCEDC' - Requesting unreliable availability.\n",
      "[2022-04-16 13:52:28,022] - obspy.clients.fdsn.mass_downloader - INFO: Client 'SCEDC' - Requesting unreliable availability.\n",
      "[2022-04-16 13:52:28,021] - obspy.clients.fdsn.mass_downloader - INFO: Client 'SCEDC' - Requesting unreliable availability.\n",
      "[2022-04-16 13:52:28,022] - obspy.clients.fdsn.mass_downloader - INFO: Client 'SCEDC' - Requesting unreliable availability.\n",
      "[2022-04-16 13:52:28,022] - obspy.clients.fdsn.mass_downloader - INFO: Client 'SCEDC' - Requesting unreliable availability.\n"
     ]
    },
    {
     "name": "stdout",
     "output_type": "stream",
     "text": [
      "####### There are 2 stations in the list. #######\n",
      "======= Working on ARV station.\n",
      "======= Working on BAK station.\n"
     ]
    },
    {
     "name": "stderr",
     "output_type": "stream",
     "text": [
      "[2022-04-16 13:52:28,605] - obspy.clients.fdsn.mass_downloader - INFO: Client 'SCEDC' - No data available for request.\n",
      "[2022-04-16 13:52:28,605] - obspy.clients.fdsn.mass_downloader - INFO: Client 'SCEDC' - No data available for request.\n",
      "[2022-04-16 13:52:28,605] - obspy.clients.fdsn.mass_downloader - INFO: Client 'SCEDC' - No data available for request.\n",
      "[2022-04-16 13:52:28,609] - obspy.clients.fdsn.mass_downloader - INFO: Client 'SCEDC' - No data available.\n",
      "[2022-04-16 13:52:28,609] - obspy.clients.fdsn.mass_downloader - INFO: Client 'SCEDC' - No data available.\n",
      "[2022-04-16 13:52:28,609] - obspy.clients.fdsn.mass_downloader - INFO: Client 'SCEDC' - No data available.\n",
      "[2022-04-16 13:52:28,613] - obspy.clients.fdsn.mass_downloader - INFO: Total acquired or preexisting stations: 0\n",
      "[2022-04-16 13:52:28,613] - obspy.clients.fdsn.mass_downloader - INFO: Total acquired or preexisting stations: 0\n",
      "[2022-04-16 13:52:28,613] - obspy.clients.fdsn.mass_downloader - INFO: Total acquired or preexisting stations: 0\n",
      "[2022-04-16 13:52:28,616] - obspy.clients.fdsn.mass_downloader - INFO: Client 'IRIS' - Requesting reliable availability.\n",
      "[2022-04-16 13:52:28,616] - obspy.clients.fdsn.mass_downloader - INFO: Client 'IRIS' - Requesting reliable availability.\n",
      "[2022-04-16 13:52:28,616] - obspy.clients.fdsn.mass_downloader - INFO: Client 'IRIS' - Requesting reliable availability.\n",
      "[2022-04-16 13:52:28,658] - obspy.clients.fdsn.mass_downloader - INFO: Client 'SCEDC' - No data available for request.\n",
      "[2022-04-16 13:52:28,658] - obspy.clients.fdsn.mass_downloader - INFO: Client 'SCEDC' - No data available for request.\n",
      "[2022-04-16 13:52:28,658] - obspy.clients.fdsn.mass_downloader - INFO: Client 'SCEDC' - No data available for request.\n",
      "[2022-04-16 13:52:28,660] - obspy.clients.fdsn.mass_downloader - INFO: Client 'SCEDC' - No data available.\n",
      "[2022-04-16 13:52:28,660] - obspy.clients.fdsn.mass_downloader - INFO: Client 'SCEDC' - No data available.\n",
      "[2022-04-16 13:52:28,660] - obspy.clients.fdsn.mass_downloader - INFO: Client 'SCEDC' - No data available.\n",
      "[2022-04-16 13:52:28,661] - obspy.clients.fdsn.mass_downloader - INFO: Total acquired or preexisting stations: 0\n",
      "[2022-04-16 13:52:28,661] - obspy.clients.fdsn.mass_downloader - INFO: Total acquired or preexisting stations: 0\n",
      "[2022-04-16 13:52:28,661] - obspy.clients.fdsn.mass_downloader - INFO: Total acquired or preexisting stations: 0\n",
      "[2022-04-16 13:52:28,662] - obspy.clients.fdsn.mass_downloader - INFO: Client 'IRIS' - Requesting reliable availability.\n",
      "[2022-04-16 13:52:28,662] - obspy.clients.fdsn.mass_downloader - INFO: Client 'IRIS' - Requesting reliable availability.\n",
      "[2022-04-16 13:52:28,662] - obspy.clients.fdsn.mass_downloader - INFO: Client 'IRIS' - Requesting reliable availability.\n",
      "[2022-04-16 13:52:29,040] - obspy.clients.fdsn.mass_downloader - INFO: Client 'IRIS' - No data available for request.\n",
      "[2022-04-16 13:52:29,040] - obspy.clients.fdsn.mass_downloader - INFO: Client 'IRIS' - No data available for request.\n",
      "[2022-04-16 13:52:29,040] - obspy.clients.fdsn.mass_downloader - INFO: Client 'IRIS' - No data available for request.\n",
      "[2022-04-16 13:52:29,045] - obspy.clients.fdsn.mass_downloader - INFO: Client 'IRIS' - No data available.\n",
      "[2022-04-16 13:52:29,045] - obspy.clients.fdsn.mass_downloader - INFO: Client 'IRIS' - No data available.\n",
      "[2022-04-16 13:52:29,045] - obspy.clients.fdsn.mass_downloader - INFO: Client 'IRIS' - No data available.\n",
      "[2022-04-16 13:52:29,051] - obspy.clients.fdsn.mass_downloader - INFO: ============================== Final report\n",
      "[2022-04-16 13:52:29,051] - obspy.clients.fdsn.mass_downloader - INFO: ============================== Final report\n",
      "[2022-04-16 13:52:29,051] - obspy.clients.fdsn.mass_downloader - INFO: ============================== Final report\n",
      "[2022-04-16 13:52:29,055] - obspy.clients.fdsn.mass_downloader - INFO: 0 MiniSEED files [0.0 MB] already existed.\n",
      "[2022-04-16 13:52:29,055] - obspy.clients.fdsn.mass_downloader - INFO: 0 MiniSEED files [0.0 MB] already existed.\n",
      "[2022-04-16 13:52:29,055] - obspy.clients.fdsn.mass_downloader - INFO: 0 MiniSEED files [0.0 MB] already existed.\n",
      "[2022-04-16 13:52:29,063] - obspy.clients.fdsn.mass_downloader - INFO: 0 StationXML files [0.0 MB] already existed.\n",
      "[2022-04-16 13:52:29,063] - obspy.clients.fdsn.mass_downloader - INFO: 0 StationXML files [0.0 MB] already existed.\n",
      "[2022-04-16 13:52:29,063] - obspy.clients.fdsn.mass_downloader - INFO: 0 StationXML files [0.0 MB] already existed.\n",
      "[2022-04-16 13:52:29,069] - obspy.clients.fdsn.mass_downloader - INFO: Client 'SCEDC' - Acquired 0 MiniSEED files [0.0 MB].\n",
      "[2022-04-16 13:52:29,069] - obspy.clients.fdsn.mass_downloader - INFO: Client 'SCEDC' - Acquired 0 MiniSEED files [0.0 MB].\n",
      "[2022-04-16 13:52:29,069] - obspy.clients.fdsn.mass_downloader - INFO: Client 'SCEDC' - Acquired 0 MiniSEED files [0.0 MB].\n",
      "[2022-04-16 13:52:29,074] - obspy.clients.fdsn.mass_downloader - INFO: Client 'SCEDC' - Acquired 0 StationXML files [0.0 MB].\n",
      "[2022-04-16 13:52:29,074] - obspy.clients.fdsn.mass_downloader - INFO: Client 'SCEDC' - Acquired 0 StationXML files [0.0 MB].\n",
      "[2022-04-16 13:52:29,074] - obspy.clients.fdsn.mass_downloader - INFO: Client 'SCEDC' - Acquired 0 StationXML files [0.0 MB].\n",
      "[2022-04-16 13:52:29,078] - obspy.clients.fdsn.mass_downloader - INFO: Client 'IRIS' - Acquired 0 MiniSEED files [0.0 MB].\n",
      "[2022-04-16 13:52:29,078] - obspy.clients.fdsn.mass_downloader - INFO: Client 'IRIS' - Acquired 0 MiniSEED files [0.0 MB].\n",
      "[2022-04-16 13:52:29,078] - obspy.clients.fdsn.mass_downloader - INFO: Client 'IRIS' - Acquired 0 MiniSEED files [0.0 MB].\n",
      "[2022-04-16 13:52:29,081] - obspy.clients.fdsn.mass_downloader - INFO: Client 'IRIS' - Acquired 0 StationXML files [0.0 MB].\n",
      "[2022-04-16 13:52:29,081] - obspy.clients.fdsn.mass_downloader - INFO: Client 'IRIS' - Acquired 0 StationXML files [0.0 MB].\n",
      "[2022-04-16 13:52:29,081] - obspy.clients.fdsn.mass_downloader - INFO: Client 'IRIS' - Acquired 0 StationXML files [0.0 MB].\n",
      "[2022-04-16 13:52:29,085] - obspy.clients.fdsn.mass_downloader - INFO: Client 'IRIS' - No data available for request.\n",
      "[2022-04-16 13:52:29,085] - obspy.clients.fdsn.mass_downloader - INFO: Client 'IRIS' - No data available for request.\n",
      "[2022-04-16 13:52:29,086] - obspy.clients.fdsn.mass_downloader - INFO: Downloaded 0.0 MB in total.\n",
      "[2022-04-16 13:52:29,085] - obspy.clients.fdsn.mass_downloader - INFO: Client 'IRIS' - No data available for request.\n",
      "[2022-04-16 13:52:29,086] - obspy.clients.fdsn.mass_downloader - INFO: Downloaded 0.0 MB in total.\n",
      "[2022-04-16 13:52:29,088] - obspy.clients.fdsn.mass_downloader - INFO: Client 'IRIS' - No data available.\n",
      "[2022-04-16 13:52:29,086] - obspy.clients.fdsn.mass_downloader - INFO: Downloaded 0.0 MB in total.\n",
      "[2022-04-16 13:52:29,088] - obspy.clients.fdsn.mass_downloader - INFO: Client 'IRIS' - No data available.\n",
      "[2022-04-16 13:52:29,088] - obspy.clients.fdsn.mass_downloader - INFO: Client 'IRIS' - No data available.\n",
      "[2022-04-16 13:52:29,091] - obspy.clients.fdsn.mass_downloader - INFO: ============================== Final report\n",
      "[2022-04-16 13:52:29,091] - obspy.clients.fdsn.mass_downloader - INFO: ============================== Final report\n",
      "[2022-04-16 13:52:29,091] - obspy.clients.fdsn.mass_downloader - INFO: ============================== Final report\n",
      "[2022-04-16 13:52:29,093] - obspy.clients.fdsn.mass_downloader - INFO: 0 MiniSEED files [0.0 MB] already existed.\n",
      "[2022-04-16 13:52:29,093] - obspy.clients.fdsn.mass_downloader - INFO: 0 MiniSEED files [0.0 MB] already existed.\n",
      "[2022-04-16 13:52:29,093] - obspy.clients.fdsn.mass_downloader - INFO: 0 MiniSEED files [0.0 MB] already existed.\n",
      "[2022-04-16 13:52:29,095] - obspy.clients.fdsn.mass_downloader - INFO: 0 StationXML files [0.0 MB] already existed.\n",
      "[2022-04-16 13:52:29,095] - obspy.clients.fdsn.mass_downloader - INFO: 0 StationXML files [0.0 MB] already existed.\n",
      "[2022-04-16 13:52:29,095] - obspy.clients.fdsn.mass_downloader - INFO: 0 StationXML files [0.0 MB] already existed.\n",
      "[2022-04-16 13:52:29,100] - obspy.clients.fdsn.mass_downloader - INFO: Client 'SCEDC' - Acquired 0 MiniSEED files [0.0 MB].\n",
      "[2022-04-16 13:52:29,100] - obspy.clients.fdsn.mass_downloader - INFO: Client 'SCEDC' - Acquired 0 MiniSEED files [0.0 MB].\n",
      "[2022-04-16 13:52:29,100] - obspy.clients.fdsn.mass_downloader - INFO: Client 'SCEDC' - Acquired 0 MiniSEED files [0.0 MB].\n",
      "[2022-04-16 13:52:29,101] - obspy.clients.fdsn.mass_downloader - INFO: Client 'SCEDC' - Acquired 0 StationXML files [0.0 MB].\n",
      "[2022-04-16 13:52:29,101] - obspy.clients.fdsn.mass_downloader - INFO: Client 'SCEDC' - Acquired 0 StationXML files [0.0 MB].\n",
      "[2022-04-16 13:52:29,101] - obspy.clients.fdsn.mass_downloader - INFO: Client 'SCEDC' - Acquired 0 StationXML files [0.0 MB].\n",
      "[2022-04-16 13:52:29,102] - obspy.clients.fdsn.mass_downloader - INFO: Client 'IRIS' - Acquired 0 MiniSEED files [0.0 MB].\n",
      "[2022-04-16 13:52:29,102] - obspy.clients.fdsn.mass_downloader - INFO: Client 'IRIS' - Acquired 0 MiniSEED files [0.0 MB].\n",
      "[2022-04-16 13:52:29,102] - obspy.clients.fdsn.mass_downloader - INFO: Client 'IRIS' - Acquired 0 MiniSEED files [0.0 MB].\n",
      "[2022-04-16 13:52:29,104] - obspy.clients.fdsn.mass_downloader - INFO: Client 'IRIS' - Acquired 0 StationXML files [0.0 MB].\n",
      "[2022-04-16 13:52:29,104] - obspy.clients.fdsn.mass_downloader - INFO: Client 'IRIS' - Acquired 0 StationXML files [0.0 MB].\n",
      "[2022-04-16 13:52:29,104] - obspy.clients.fdsn.mass_downloader - INFO: Client 'IRIS' - Acquired 0 StationXML files [0.0 MB].\n",
      "[2022-04-16 13:52:29,105] - obspy.clients.fdsn.mass_downloader - INFO: Downloaded 0.0 MB in total.\n",
      "[2022-04-16 13:52:29,105] - obspy.clients.fdsn.mass_downloader - INFO: Downloaded 0.0 MB in total.\n",
      "[2022-04-16 13:52:29,105] - obspy.clients.fdsn.mass_downloader - INFO: Downloaded 0.0 MB in total.\n"
     ]
    },
    {
     "name": "stdout",
     "output_type": "stream",
     "text": [
      "** done with --> BAK -- CI -- 2020-09-01\n",
      "** done with --> ARV -- CI -- 2020-09-01\n"
     ]
    }
   ],
   "source": [
    "downloadMseeds(client_list=[\"SCEDC\", \"IRIS\"], \n",
    "          stations_json=json_basepath, \n",
    "          output_dir=\"downloads_mseeds\", \n",
    "          start_time=STIME, \n",
    "          end_time=ETIME, \n",
    "          min_lat=MINLAT, \n",
    "          max_lat=MAXLAT, \n",
    "          min_lon=MINLON, \n",
    "          max_lon=MAXLON,\n",
    "          chunk_size=1,\n",
    "          channel_list=[],\n",
    "          n_processor=2)"
   ]
  },
  {
   "cell_type": "markdown",
   "metadata": {},
   "source": [
    "The above will download the continous data (either in MiniSeed or SAC) and save them into individual folders for each station insider your defined output directory (i.e. downloads_mseeds)."
   ]
  }
 ],
 "metadata": {
  "kernelspec": {
   "display_name": "Python 3",
   "language": "python",
   "name": "python3"
  },
  "language_info": {
   "codemirror_mode": {
    "name": "ipython",
    "version": 3
   },
   "file_extension": ".py",
   "mimetype": "text/x-python",
   "name": "python",
   "nbconvert_exporter": "python",
   "pygments_lexer": "ipython3",
   "version": "3.7.12"
  }
 },
 "nbformat": 4,
 "nbformat_minor": 2
}
